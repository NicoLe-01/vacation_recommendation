{
  "nbformat": 4,
  "nbformat_minor": 0,
  "metadata": {
    "colab": {
      "provenance": []
    },
    "kernelspec": {
      "name": "python3",
      "display_name": "Python 3"
    },
    "language_info": {
      "name": "python"
    }
  },
  "cells": [
    {
      "cell_type": "code",
      "source": [
        "!pip install nltk\n",
        "!pip install sastrawi"
      ],
      "metadata": {
        "colab": {
          "base_uri": "https://localhost:8080/"
        },
        "id": "x0ElBEl0FPOw",
        "outputId": "63bfae4d-7dab-4b99-b9fd-d52d11b3eef5"
      },
      "execution_count": null,
      "outputs": [
        {
          "output_type": "stream",
          "name": "stdout",
          "text": [
            "Requirement already satisfied: nltk in /usr/local/lib/python3.10/dist-packages (3.8.1)\n",
            "Requirement already satisfied: click in /usr/local/lib/python3.10/dist-packages (from nltk) (8.1.7)\n",
            "Requirement already satisfied: joblib in /usr/local/lib/python3.10/dist-packages (from nltk) (1.3.2)\n",
            "Requirement already satisfied: regex>=2021.8.3 in /usr/local/lib/python3.10/dist-packages (from nltk) (2023.6.3)\n",
            "Requirement already satisfied: tqdm in /usr/local/lib/python3.10/dist-packages (from nltk) (4.66.1)\n",
            "Requirement already satisfied: sastrawi in /usr/local/lib/python3.10/dist-packages (1.0.1)\n"
          ]
        }
      ]
    },
    {
      "cell_type": "markdown",
      "source": [
        "## Import library"
      ],
      "metadata": {
        "id": "lZ3OY7fDhOe1"
      }
    },
    {
      "cell_type": "code",
      "execution_count": null,
      "metadata": {
        "id": "v6qyxYQXOmrJ"
      },
      "outputs": [],
      "source": [
        "import pandas as pd\n",
        "import re\n",
        "import nltk\n",
        "import numpy as np\n",
        "import matplotlib.pyplot as plt\n",
        "import tensorflow as tf\n",
        "import joblib\n",
        "import pickle\n",
        "from sklearn.metrics.pairwise import cosine_similarity\n",
        "from sklearn.feature_extraction.text import TfidfVectorizer\n",
        "from sklearn.preprocessing import LabelEncoder\n",
        "from nltk.corpus import stopwords\n",
        "from nltk.tokenize import word_tokenize\n",
        "from Sastrawi.Stemmer.StemmerFactory import StemmerFactory\n",
        "from tensorflow.keras.preprocessing.text import Tokenizer\n",
        "from tensorflow.keras.preprocessing.sequence import pad_sequences\n",
        "from sklearn.model_selection import train_test_split"
      ]
    },
    {
      "cell_type": "code",
      "source": [
        "nltk.download('stopwords')"
      ],
      "metadata": {
        "id": "g_BAolnu3Qlx",
        "colab": {
          "base_uri": "https://localhost:8080/"
        },
        "outputId": "cf6f4f30-4e40-4e31-b63b-4d17c3ef085f"
      },
      "execution_count": null,
      "outputs": [
        {
          "output_type": "stream",
          "name": "stderr",
          "text": [
            "[nltk_data] Downloading package stopwords to /root/nltk_data...\n",
            "[nltk_data]   Package stopwords is already up-to-date!\n"
          ]
        },
        {
          "output_type": "execute_result",
          "data": {
            "text/plain": [
              "True"
            ]
          },
          "metadata": {},
          "execution_count": 52
        }
      ]
    },
    {
      "cell_type": "markdown",
      "source": [
        "## Read dataset"
      ],
      "metadata": {
        "id": "bWvISVbxhVYV"
      }
    },
    {
      "cell_type": "code",
      "source": [
        "df = pd.read_csv('/content/most_relevant_reviews_destination_palembang.csv')\n",
        "df.head()"
      ],
      "metadata": {
        "colab": {
          "base_uri": "https://localhost:8080/",
          "height": 608
        },
        "id": "g6sVjYcWVqu3",
        "outputId": "b40891ef-4929-4347-ec73-fb2b603d9b2f"
      },
      "execution_count": null,
      "outputs": [
        {
          "output_type": "execute_result",
          "data": {
            "text/plain": [
              "                              id_review  \\\n",
              "0  ChdDSUhNMG9nS0VJQ0FnSUNsOE91Ny1BRRAB   \n",
              "1   ChZDSUhNMG9nS0VJQ0FnSURscllqZFlBEAE   \n",
              "2  ChdDSUhNMG9nS0VJQ0FnSUNwNXFIZzVRRRAB   \n",
              "3  ChdDSUhNMG9nS0VJQ0FnSUM1dHFhbTRBRRAB   \n",
              "4  ChdDSUhNMG9nS0VJQ0FnSURaaDl1TGl3RRAB   \n",
              "\n",
              "                                             caption relative_date  \\\n",
              "0  Bagus sih tempat nya tapi kesel sama tukang pa...   3 weeks ago   \n",
              "1  Benteng kuto Besak. Benteng sejarah perjuangan...    6 days ago   \n",
              "2  Palembang terkenal wisata kuliner, bukan wisat...  4 months ago   \n",
              "3  Tamasya bersama keluarga sangat cocok sekali, ...   a month ago   \n",
              "4  Tempatnya bagus bila ingin melihat keindahan j...  2 months ago   \n",
              "\n",
              "        retrieval_date  rating         username n_review_user  \\\n",
              "0  2023-12-09 15:16:36       3         MR DENDI           119   \n",
              "1  2023-12-09 15:16:36       5      Sy Firdausy           176   \n",
              "2  2023-12-09 15:16:36       4        Deas Dewi            39   \n",
              "3  2023-12-09 15:16:36       5  Mase Production           144   \n",
              "4  2023-12-09 15:16:36       5    Dedi Setiawan            93   \n",
              "\n",
              "                                            url_user               place  \n",
              "0  https://www.google.com/maps/contrib/1034562667...  benteng kuto besak  \n",
              "1  https://www.google.com/maps/contrib/1169888705...  benteng kuto besak  \n",
              "2  https://www.google.com/maps/contrib/1075167764...  benteng kuto besak  \n",
              "3  https://www.google.com/maps/contrib/1110347091...  benteng kuto besak  \n",
              "4  https://www.google.com/maps/contrib/1092551377...  benteng kuto besak  "
            ],
            "text/html": [
              "\n",
              "  <div id=\"df-be1a3ec7-dc47-407e-8fe0-454bb0bdbaee\" class=\"colab-df-container\">\n",
              "    <div>\n",
              "<style scoped>\n",
              "    .dataframe tbody tr th:only-of-type {\n",
              "        vertical-align: middle;\n",
              "    }\n",
              "\n",
              "    .dataframe tbody tr th {\n",
              "        vertical-align: top;\n",
              "    }\n",
              "\n",
              "    .dataframe thead th {\n",
              "        text-align: right;\n",
              "    }\n",
              "</style>\n",
              "<table border=\"1\" class=\"dataframe\">\n",
              "  <thead>\n",
              "    <tr style=\"text-align: right;\">\n",
              "      <th></th>\n",
              "      <th>id_review</th>\n",
              "      <th>caption</th>\n",
              "      <th>relative_date</th>\n",
              "      <th>retrieval_date</th>\n",
              "      <th>rating</th>\n",
              "      <th>username</th>\n",
              "      <th>n_review_user</th>\n",
              "      <th>url_user</th>\n",
              "      <th>place</th>\n",
              "    </tr>\n",
              "  </thead>\n",
              "  <tbody>\n",
              "    <tr>\n",
              "      <th>0</th>\n",
              "      <td>ChdDSUhNMG9nS0VJQ0FnSUNsOE91Ny1BRRAB</td>\n",
              "      <td>Bagus sih tempat nya tapi kesel sama tukang pa...</td>\n",
              "      <td>3 weeks ago</td>\n",
              "      <td>2023-12-09 15:16:36</td>\n",
              "      <td>3</td>\n",
              "      <td>MR DENDI</td>\n",
              "      <td>119</td>\n",
              "      <td>https://www.google.com/maps/contrib/1034562667...</td>\n",
              "      <td>benteng kuto besak</td>\n",
              "    </tr>\n",
              "    <tr>\n",
              "      <th>1</th>\n",
              "      <td>ChZDSUhNMG9nS0VJQ0FnSURscllqZFlBEAE</td>\n",
              "      <td>Benteng kuto Besak. Benteng sejarah perjuangan...</td>\n",
              "      <td>6 days ago</td>\n",
              "      <td>2023-12-09 15:16:36</td>\n",
              "      <td>5</td>\n",
              "      <td>Sy Firdausy</td>\n",
              "      <td>176</td>\n",
              "      <td>https://www.google.com/maps/contrib/1169888705...</td>\n",
              "      <td>benteng kuto besak</td>\n",
              "    </tr>\n",
              "    <tr>\n",
              "      <th>2</th>\n",
              "      <td>ChdDSUhNMG9nS0VJQ0FnSUNwNXFIZzVRRRAB</td>\n",
              "      <td>Palembang terkenal wisata kuliner, bukan wisat...</td>\n",
              "      <td>4 months ago</td>\n",
              "      <td>2023-12-09 15:16:36</td>\n",
              "      <td>4</td>\n",
              "      <td>Deas Dewi</td>\n",
              "      <td>39</td>\n",
              "      <td>https://www.google.com/maps/contrib/1075167764...</td>\n",
              "      <td>benteng kuto besak</td>\n",
              "    </tr>\n",
              "    <tr>\n",
              "      <th>3</th>\n",
              "      <td>ChdDSUhNMG9nS0VJQ0FnSUM1dHFhbTRBRRAB</td>\n",
              "      <td>Tamasya bersama keluarga sangat cocok sekali, ...</td>\n",
              "      <td>a month ago</td>\n",
              "      <td>2023-12-09 15:16:36</td>\n",
              "      <td>5</td>\n",
              "      <td>Mase Production</td>\n",
              "      <td>144</td>\n",
              "      <td>https://www.google.com/maps/contrib/1110347091...</td>\n",
              "      <td>benteng kuto besak</td>\n",
              "    </tr>\n",
              "    <tr>\n",
              "      <th>4</th>\n",
              "      <td>ChdDSUhNMG9nS0VJQ0FnSURaaDl1TGl3RRAB</td>\n",
              "      <td>Tempatnya bagus bila ingin melihat keindahan j...</td>\n",
              "      <td>2 months ago</td>\n",
              "      <td>2023-12-09 15:16:36</td>\n",
              "      <td>5</td>\n",
              "      <td>Dedi Setiawan</td>\n",
              "      <td>93</td>\n",
              "      <td>https://www.google.com/maps/contrib/1092551377...</td>\n",
              "      <td>benteng kuto besak</td>\n",
              "    </tr>\n",
              "  </tbody>\n",
              "</table>\n",
              "</div>\n",
              "    <div class=\"colab-df-buttons\">\n",
              "\n",
              "  <div class=\"colab-df-container\">\n",
              "    <button class=\"colab-df-convert\" onclick=\"convertToInteractive('df-be1a3ec7-dc47-407e-8fe0-454bb0bdbaee')\"\n",
              "            title=\"Convert this dataframe to an interactive table.\"\n",
              "            style=\"display:none;\">\n",
              "\n",
              "  <svg xmlns=\"http://www.w3.org/2000/svg\" height=\"24px\" viewBox=\"0 -960 960 960\">\n",
              "    <path d=\"M120-120v-720h720v720H120Zm60-500h600v-160H180v160Zm220 220h160v-160H400v160Zm0 220h160v-160H400v160ZM180-400h160v-160H180v160Zm440 0h160v-160H620v160ZM180-180h160v-160H180v160Zm440 0h160v-160H620v160Z\"/>\n",
              "  </svg>\n",
              "    </button>\n",
              "\n",
              "  <style>\n",
              "    .colab-df-container {\n",
              "      display:flex;\n",
              "      gap: 12px;\n",
              "    }\n",
              "\n",
              "    .colab-df-convert {\n",
              "      background-color: #E8F0FE;\n",
              "      border: none;\n",
              "      border-radius: 50%;\n",
              "      cursor: pointer;\n",
              "      display: none;\n",
              "      fill: #1967D2;\n",
              "      height: 32px;\n",
              "      padding: 0 0 0 0;\n",
              "      width: 32px;\n",
              "    }\n",
              "\n",
              "    .colab-df-convert:hover {\n",
              "      background-color: #E2EBFA;\n",
              "      box-shadow: 0px 1px 2px rgba(60, 64, 67, 0.3), 0px 1px 3px 1px rgba(60, 64, 67, 0.15);\n",
              "      fill: #174EA6;\n",
              "    }\n",
              "\n",
              "    .colab-df-buttons div {\n",
              "      margin-bottom: 4px;\n",
              "    }\n",
              "\n",
              "    [theme=dark] .colab-df-convert {\n",
              "      background-color: #3B4455;\n",
              "      fill: #D2E3FC;\n",
              "    }\n",
              "\n",
              "    [theme=dark] .colab-df-convert:hover {\n",
              "      background-color: #434B5C;\n",
              "      box-shadow: 0px 1px 3px 1px rgba(0, 0, 0, 0.15);\n",
              "      filter: drop-shadow(0px 1px 2px rgba(0, 0, 0, 0.3));\n",
              "      fill: #FFFFFF;\n",
              "    }\n",
              "  </style>\n",
              "\n",
              "    <script>\n",
              "      const buttonEl =\n",
              "        document.querySelector('#df-be1a3ec7-dc47-407e-8fe0-454bb0bdbaee button.colab-df-convert');\n",
              "      buttonEl.style.display =\n",
              "        google.colab.kernel.accessAllowed ? 'block' : 'none';\n",
              "\n",
              "      async function convertToInteractive(key) {\n",
              "        const element = document.querySelector('#df-be1a3ec7-dc47-407e-8fe0-454bb0bdbaee');\n",
              "        const dataTable =\n",
              "          await google.colab.kernel.invokeFunction('convertToInteractive',\n",
              "                                                    [key], {});\n",
              "        if (!dataTable) return;\n",
              "\n",
              "        const docLinkHtml = 'Like what you see? Visit the ' +\n",
              "          '<a target=\"_blank\" href=https://colab.research.google.com/notebooks/data_table.ipynb>data table notebook</a>'\n",
              "          + ' to learn more about interactive tables.';\n",
              "        element.innerHTML = '';\n",
              "        dataTable['output_type'] = 'display_data';\n",
              "        await google.colab.output.renderOutput(dataTable, element);\n",
              "        const docLink = document.createElement('div');\n",
              "        docLink.innerHTML = docLinkHtml;\n",
              "        element.appendChild(docLink);\n",
              "      }\n",
              "    </script>\n",
              "  </div>\n",
              "\n",
              "\n",
              "<div id=\"df-aa66f749-8682-47c1-8bb7-35e84d9db5ee\">\n",
              "  <button class=\"colab-df-quickchart\" onclick=\"quickchart('df-aa66f749-8682-47c1-8bb7-35e84d9db5ee')\"\n",
              "            title=\"Suggest charts\"\n",
              "            style=\"display:none;\">\n",
              "\n",
              "<svg xmlns=\"http://www.w3.org/2000/svg\" height=\"24px\"viewBox=\"0 0 24 24\"\n",
              "     width=\"24px\">\n",
              "    <g>\n",
              "        <path d=\"M19 3H5c-1.1 0-2 .9-2 2v14c0 1.1.9 2 2 2h14c1.1 0 2-.9 2-2V5c0-1.1-.9-2-2-2zM9 17H7v-7h2v7zm4 0h-2V7h2v10zm4 0h-2v-4h2v4z\"/>\n",
              "    </g>\n",
              "</svg>\n",
              "  </button>\n",
              "\n",
              "<style>\n",
              "  .colab-df-quickchart {\n",
              "      --bg-color: #E8F0FE;\n",
              "      --fill-color: #1967D2;\n",
              "      --hover-bg-color: #E2EBFA;\n",
              "      --hover-fill-color: #174EA6;\n",
              "      --disabled-fill-color: #AAA;\n",
              "      --disabled-bg-color: #DDD;\n",
              "  }\n",
              "\n",
              "  [theme=dark] .colab-df-quickchart {\n",
              "      --bg-color: #3B4455;\n",
              "      --fill-color: #D2E3FC;\n",
              "      --hover-bg-color: #434B5C;\n",
              "      --hover-fill-color: #FFFFFF;\n",
              "      --disabled-bg-color: #3B4455;\n",
              "      --disabled-fill-color: #666;\n",
              "  }\n",
              "\n",
              "  .colab-df-quickchart {\n",
              "    background-color: var(--bg-color);\n",
              "    border: none;\n",
              "    border-radius: 50%;\n",
              "    cursor: pointer;\n",
              "    display: none;\n",
              "    fill: var(--fill-color);\n",
              "    height: 32px;\n",
              "    padding: 0;\n",
              "    width: 32px;\n",
              "  }\n",
              "\n",
              "  .colab-df-quickchart:hover {\n",
              "    background-color: var(--hover-bg-color);\n",
              "    box-shadow: 0 1px 2px rgba(60, 64, 67, 0.3), 0 1px 3px 1px rgba(60, 64, 67, 0.15);\n",
              "    fill: var(--button-hover-fill-color);\n",
              "  }\n",
              "\n",
              "  .colab-df-quickchart-complete:disabled,\n",
              "  .colab-df-quickchart-complete:disabled:hover {\n",
              "    background-color: var(--disabled-bg-color);\n",
              "    fill: var(--disabled-fill-color);\n",
              "    box-shadow: none;\n",
              "  }\n",
              "\n",
              "  .colab-df-spinner {\n",
              "    border: 2px solid var(--fill-color);\n",
              "    border-color: transparent;\n",
              "    border-bottom-color: var(--fill-color);\n",
              "    animation:\n",
              "      spin 1s steps(1) infinite;\n",
              "  }\n",
              "\n",
              "  @keyframes spin {\n",
              "    0% {\n",
              "      border-color: transparent;\n",
              "      border-bottom-color: var(--fill-color);\n",
              "      border-left-color: var(--fill-color);\n",
              "    }\n",
              "    20% {\n",
              "      border-color: transparent;\n",
              "      border-left-color: var(--fill-color);\n",
              "      border-top-color: var(--fill-color);\n",
              "    }\n",
              "    30% {\n",
              "      border-color: transparent;\n",
              "      border-left-color: var(--fill-color);\n",
              "      border-top-color: var(--fill-color);\n",
              "      border-right-color: var(--fill-color);\n",
              "    }\n",
              "    40% {\n",
              "      border-color: transparent;\n",
              "      border-right-color: var(--fill-color);\n",
              "      border-top-color: var(--fill-color);\n",
              "    }\n",
              "    60% {\n",
              "      border-color: transparent;\n",
              "      border-right-color: var(--fill-color);\n",
              "    }\n",
              "    80% {\n",
              "      border-color: transparent;\n",
              "      border-right-color: var(--fill-color);\n",
              "      border-bottom-color: var(--fill-color);\n",
              "    }\n",
              "    90% {\n",
              "      border-color: transparent;\n",
              "      border-bottom-color: var(--fill-color);\n",
              "    }\n",
              "  }\n",
              "</style>\n",
              "\n",
              "  <script>\n",
              "    async function quickchart(key) {\n",
              "      const quickchartButtonEl =\n",
              "        document.querySelector('#' + key + ' button');\n",
              "      quickchartButtonEl.disabled = true;  // To prevent multiple clicks.\n",
              "      quickchartButtonEl.classList.add('colab-df-spinner');\n",
              "      try {\n",
              "        const charts = await google.colab.kernel.invokeFunction(\n",
              "            'suggestCharts', [key], {});\n",
              "      } catch (error) {\n",
              "        console.error('Error during call to suggestCharts:', error);\n",
              "      }\n",
              "      quickchartButtonEl.classList.remove('colab-df-spinner');\n",
              "      quickchartButtonEl.classList.add('colab-df-quickchart-complete');\n",
              "    }\n",
              "    (() => {\n",
              "      let quickchartButtonEl =\n",
              "        document.querySelector('#df-aa66f749-8682-47c1-8bb7-35e84d9db5ee button');\n",
              "      quickchartButtonEl.style.display =\n",
              "        google.colab.kernel.accessAllowed ? 'block' : 'none';\n",
              "    })();\n",
              "  </script>\n",
              "</div>\n",
              "    </div>\n",
              "  </div>\n"
            ]
          },
          "metadata": {},
          "execution_count": 161
        }
      ]
    },
    {
      "cell_type": "markdown",
      "source": [
        "## Data cleaning"
      ],
      "metadata": {
        "id": "fYN1lBiThLOl"
      }
    },
    {
      "cell_type": "markdown",
      "source": [
        "### Clear null value"
      ],
      "metadata": {
        "id": "FLHzUPD7EPoH"
      }
    },
    {
      "cell_type": "code",
      "source": [
        "df['place'].value_counts()"
      ],
      "metadata": {
        "colab": {
          "base_uri": "https://localhost:8080/"
        },
        "id": "uBXnlLU3BVks",
        "outputId": "5da135f7-3c38-4a50-88c7-9861e2f4a4ef"
      },
      "execution_count": null,
      "outputs": [
        {
          "output_type": "execute_result",
          "data": {
            "text/plain": [
              "pulau kemaro                101\n",
              "benteng kuto besak          100\n",
              "warung terapung             100\n",
              "riverside restaurant        100\n",
              "sentral kampung pempek      100\n",
              "taman purbakala             100\n",
              "museum monpera              100\n",
              "museum sultan mahmud II     100\n",
              "jembatan ampera             100\n",
              "wisata alam punti kayu      100\n",
              "taman kambang iwak besak    100\n",
              "bird park jaka baring       100\n",
              "jaka baring sport city      100\n",
              "palembang indah mall        100\n",
              "sungai musi                  99\n",
              "Name: place, dtype: int64"
            ]
          },
          "metadata": {},
          "execution_count": 162
        }
      ]
    },
    {
      "cell_type": "code",
      "source": [
        "df.dropna(subset=['caption'], inplace=True)"
      ],
      "metadata": {
        "id": "PF9uUeOzWD2I"
      },
      "execution_count": null,
      "outputs": []
    },
    {
      "cell_type": "code",
      "source": [
        "df['place'].value_counts()"
      ],
      "metadata": {
        "colab": {
          "base_uri": "https://localhost:8080/"
        },
        "id": "MWIeddE6X42h",
        "outputId": "f93b9d60-d131-4aa0-cfda-99c7a1470434"
      },
      "execution_count": null,
      "outputs": [
        {
          "output_type": "execute_result",
          "data": {
            "text/plain": [
              "pulau kemaro                101\n",
              "benteng kuto besak          100\n",
              "riverside restaurant        100\n",
              "sentral kampung pempek      100\n",
              "taman purbakala             100\n",
              "museum monpera              100\n",
              "museum sultan mahmud II     100\n",
              "wisata alam punti kayu      100\n",
              "taman kambang iwak besak    100\n",
              "bird park jaka baring       100\n",
              "jaka baring sport city      100\n",
              "palembang indah mall        100\n",
              "jembatan ampera              76\n",
              "sungai musi                  59\n",
              "warung terapung              44\n",
              "Name: place, dtype: int64"
            ]
          },
          "metadata": {},
          "execution_count": 164
        }
      ]
    },
    {
      "cell_type": "markdown",
      "source": [
        "### Clear emoji and symbol"
      ],
      "metadata": {
        "id": "iQvfLYRNEKkA"
      }
    },
    {
      "cell_type": "code",
      "source": [
        "def clean_caption(text):\n",
        "    # Remove emojis\n",
        "    emoji_pattern = re.compile(\"[\"\n",
        "                               u\"\\U0001F600-\\U0001F64F\"  # emoticons\n",
        "                               u\"\\U0001F300-\\U0001F5FF\"  # symbols & pictographs\n",
        "                               u\"\\U0001F680-\\U0001F6FF\"  # transport & map symbols\n",
        "                               u\"\\U0001F700-\\U0001F77F\"  # alchemical symbols\n",
        "                               u\"\\U0001F780-\\U0001F7FF\"  # Geometric Shapes Extended\n",
        "                               u\"\\U0001F800-\\U0001F8FF\"  # Supplemental Arrows-C\n",
        "                               u\"\\U0001F900-\\U0001F9FF\"  # Supplemental Symbols and Pictographs\n",
        "                               u\"\\U0001FA00-\\U0001FA6F\"  # Chess Symbols\n",
        "                               u\"\\U0001FA70-\\U0001FAFF\"  # Symbols and Pictographs Extended-A\n",
        "                               u\"\\U00002702-\\U000027B0\"  # Dingbats\n",
        "                               u\"\\U000024C2-\\U0001F251\"\n",
        "                               \"]+\", flags=re.UNICODE)\n",
        "    text_no_emoji = emoji_pattern.sub(r'', text)\n",
        "\n",
        "    # case folding\n",
        "    text_no_emoji = text_no_emoji.lower()\n",
        "\n",
        "    # remove whitespace\n",
        "    text_no_emoji = text_no_emoji.strip()\n",
        "\n",
        "    # Remove other symbols and non-alphanumeric characters\n",
        "    text_cleaned = re.sub(r'[^a-zA-Z0-9\\s]', '', text_no_emoji)\n",
        "\n",
        "    return text_cleaned"
      ],
      "metadata": {
        "id": "1ZY3dB_wCfsP"
      },
      "execution_count": null,
      "outputs": []
    },
    {
      "cell_type": "code",
      "source": [
        "# Apply the cleaning function to the 'caption' column\n",
        "df['caption'] = df['caption'].apply(clean_caption)"
      ],
      "metadata": {
        "id": "NSfMqH3HDMKS"
      },
      "execution_count": null,
      "outputs": []
    },
    {
      "cell_type": "code",
      "source": [
        "df['caption'][0]"
      ],
      "metadata": {
        "colab": {
          "base_uri": "https://localhost:8080/",
          "height": 54
        },
        "id": "RbnL2l1_EARm",
        "outputId": "61aa0066-9563-4cd2-c155-e5a9c2a5f1df"
      },
      "execution_count": null,
      "outputs": [
        {
          "output_type": "execute_result",
          "data": {
            "text/plain": [
              "'bagus sih tempat nya tapi kesel sama tukang parkir nya  pengamen jadi buat kalian yang ajak keluarga dari luar kota palembang tetap hati ya jaga barang bawak an anda semua'"
            ],
            "application/vnd.google.colaboratory.intrinsic+json": {
              "type": "string"
            }
          },
          "metadata": {},
          "execution_count": 10
        }
      ]
    },
    {
      "cell_type": "markdown",
      "source": [
        "### Clear stopwords"
      ],
      "metadata": {
        "id": "tPEU5TjtEUMo"
      }
    },
    {
      "cell_type": "code",
      "source": [
        "# Read the stopwords from the file\n",
        "stopwords_file = '/content/stopwords-id.txt'\n",
        "with open(stopwords_file, 'r') as file:\n",
        "    stopwords = file.read().splitlines()"
      ],
      "metadata": {
        "id": "XZ3oD5VsEHWn"
      },
      "execution_count": null,
      "outputs": []
    },
    {
      "cell_type": "code",
      "source": [
        "# Function to remove stopwords from a text\n",
        "def remove_stopwords(text):\n",
        "    words = text.split()\n",
        "    filtered_words = [word for word in words if word.lower() not in stopwords]\n",
        "    return ' '.join(filtered_words)"
      ],
      "metadata": {
        "id": "uuS2F9UwIzUI"
      },
      "execution_count": null,
      "outputs": []
    },
    {
      "cell_type": "code",
      "source": [
        "# Apply the remove_stopwords function to the 'caption' column\n",
        "df['caption'] = df['caption'].apply(remove_stopwords)"
      ],
      "metadata": {
        "id": "OR4P1wxeI3gK"
      },
      "execution_count": null,
      "outputs": []
    },
    {
      "cell_type": "code",
      "source": [
        "df['caption'][0]"
      ],
      "metadata": {
        "colab": {
          "base_uri": "https://localhost:8080/",
          "height": 36
        },
        "id": "3gTf-4HiI5rj",
        "outputId": "1fb5df29-0739-4ab3-af27-e1c1c8cf936a"
      },
      "execution_count": null,
      "outputs": [
        {
          "output_type": "execute_result",
          "data": {
            "text/plain": [
              "'bagus sih nya kesel tukang parkir nya pengamen ajak keluarga kota palembang hati ya jaga barang bawak an'"
            ],
            "application/vnd.google.colaboratory.intrinsic+json": {
              "type": "string"
            }
          },
          "metadata": {},
          "execution_count": 16
        }
      ]
    },
    {
      "cell_type": "markdown",
      "source": [
        "### Stemming"
      ],
      "metadata": {
        "id": "fVyDAIrUGeue"
      }
    },
    {
      "cell_type": "code",
      "source": [
        "# create stemmer\n",
        "factory = StemmerFactory()\n",
        "stemmer = factory.create_stemmer()\n",
        "\n",
        "def stemming_text(text):\n",
        "  stemmed = stemmer.stem(text)\n",
        "  return stemmed"
      ],
      "metadata": {
        "id": "_yUBo12NGGp7"
      },
      "execution_count": null,
      "outputs": []
    },
    {
      "cell_type": "code",
      "source": [
        "# Apply the remove_stopwords function to the 'caption' column\n",
        "df['caption'] = df['caption'].apply(stemming_text)"
      ],
      "metadata": {
        "id": "sLmRhgdcJvhA"
      },
      "execution_count": null,
      "outputs": []
    },
    {
      "cell_type": "code",
      "source": [
        "df['caption'][2]"
      ],
      "metadata": {
        "colab": {
          "base_uri": "https://localhost:8080/",
          "height": 36
        },
        "id": "f2u-EMBtKgJ1",
        "outputId": "1d0546c4-1d82-4778-85f1-16630fc8f085"
      },
      "execution_count": null,
      "outputs": [
        {
          "output_type": "execute_result",
          "data": {
            "text/plain": [
              "'palembang kenal wisata kuliner wisata alam icon kota palembang salah nya bkb monpera ampera dar saran poto duk amen nya risih poto abai tawar thanks'"
            ],
            "application/vnd.google.colaboratory.intrinsic+json": {
              "type": "string"
            }
          },
          "metadata": {},
          "execution_count": 19
        }
      ]
    },
    {
      "cell_type": "markdown",
      "source": [
        "### Save the dataframe because stemming took long time"
      ],
      "metadata": {
        "id": "CaXaMfS_NawZ"
      }
    },
    {
      "cell_type": "code",
      "source": [
        "df.to_csv('reviews_cleaned.csv')"
      ],
      "metadata": {
        "id": "_hD_19RHNfTF"
      },
      "execution_count": null,
      "outputs": []
    },
    {
      "cell_type": "markdown",
      "source": [
        "## Read new stemming data"
      ],
      "metadata": {
        "id": "kZ9mWTRXhDnN"
      }
    },
    {
      "cell_type": "code",
      "source": [
        "df = pd.read_csv('/content/reviews_cleaned.csv')"
      ],
      "metadata": {
        "id": "pD4Z1C69hG-m"
      },
      "execution_count": null,
      "outputs": []
    },
    {
      "cell_type": "markdown",
      "source": [
        "drop null value"
      ],
      "metadata": {
        "id": "2aeBl0LOm4BF"
      }
    },
    {
      "cell_type": "code",
      "source": [
        "df = df.dropna(subset=['caption'])"
      ],
      "metadata": {
        "id": "aS0ifmKkjw4p"
      },
      "execution_count": null,
      "outputs": []
    },
    {
      "cell_type": "markdown",
      "source": [
        "## Encoding label"
      ],
      "metadata": {
        "id": "PFeDwnhvm7-Z"
      }
    },
    {
      "cell_type": "code",
      "source": [
        "# Sample labels\n",
        "labels_list = [\"benteng kuto besak\",\"pulau kemaro\", \"sungai musi\",\n",
        "          \"warung terapung\", \"riverside restaurant\", \"sentral kampung pempek\",\n",
        "          \"taman purbakala\", \"museum monpera\", \"museum sultan mahmud II\",\n",
        "          \"jembatan ampera\", \"wisata alam punti kayu\", \"taman kambang iwak besak\",\n",
        "          \"bird park jaka baring\", \"jaka baring sport city\", \"palembang indah mall\"]\n",
        "\n",
        "# Create a dictionary to map labels to numerical indices\n",
        "label_mapping = {label: index for index, label in enumerate(labels_list)}\n",
        "\n",
        "# Print the label mapping\n",
        "print(label_mapping)"
      ],
      "metadata": {
        "colab": {
          "base_uri": "https://localhost:8080/"
        },
        "id": "pTWVTSZnhXZ3",
        "outputId": "734c3697-713b-468d-d3a0-b97666a34b62"
      },
      "execution_count": null,
      "outputs": [
        {
          "output_type": "stream",
          "name": "stdout",
          "text": [
            "{'benteng kuto besak': 0, 'pulau kemaro': 1, 'sungai musi': 2, 'warung terapung': 3, 'riverside restaurant': 4, 'sentral kampung pempek': 5, 'taman purbakala': 6, 'museum monpera': 7, 'museum sultan mahmud II': 8, 'jembatan ampera': 9, 'wisata alam punti kayu': 10, 'taman kambang iwak besak': 11, 'bird park jaka baring': 12, 'jaka baring sport city': 13, 'palembang indah mall': 14}\n"
          ]
        }
      ]
    },
    {
      "cell_type": "markdown",
      "source": [
        "## Split Dataset"
      ],
      "metadata": {
        "id": "zSEfeKncj86w"
      }
    },
    {
      "cell_type": "code",
      "source": [
        "sentences = df['caption'].values\n",
        "labels = df['place'].values"
      ],
      "metadata": {
        "id": "OHqwN2bF1unx"
      },
      "execution_count": null,
      "outputs": []
    },
    {
      "cell_type": "code",
      "source": [
        "df['place']"
      ],
      "metadata": {
        "colab": {
          "base_uri": "https://localhost:8080/"
        },
        "id": "Si4_m6GZhawt",
        "outputId": "89f94ab7-55fb-4720-8801-b0125b66eb94"
      },
      "execution_count": null,
      "outputs": [
        {
          "output_type": "execute_result",
          "data": {
            "text/plain": [
              "0         benteng kuto besak\n",
              "1         benteng kuto besak\n",
              "2         benteng kuto besak\n",
              "3         benteng kuto besak\n",
              "4         benteng kuto besak\n",
              "                ...         \n",
              "1375    palembang indah mall\n",
              "1376    palembang indah mall\n",
              "1377    palembang indah mall\n",
              "1378    palembang indah mall\n",
              "1379    palembang indah mall\n",
              "Name: place, Length: 1378, dtype: object"
            ]
          },
          "metadata": {},
          "execution_count": 57
        }
      ]
    },
    {
      "cell_type": "code",
      "source": [
        "# Assuming you have training_labels and validation_labels\n",
        "labels_encoded = [label_mapping[label] for label in labels]\n",
        "\n",
        "\n",
        "# Convert the lists to NumPy arrays if needed\n",
        "labels_encoded = np.array(labels_encoded)"
      ],
      "metadata": {
        "id": "sqKM--XohjVX"
      },
      "execution_count": null,
      "outputs": []
    },
    {
      "cell_type": "code",
      "source": [
        "training_sentences, validation_sentences, training_labels, validation_labels = train_test_split(sentences, labels_encoded, train_size=0.8, shuffle=True)"
      ],
      "metadata": {
        "id": "Zq-Jtoxr2Fkl"
      },
      "execution_count": null,
      "outputs": []
    },
    {
      "cell_type": "code",
      "source": [
        "print(training_sentences[0])\n",
        "print(training_labels[0])"
      ],
      "metadata": {
        "colab": {
          "base_uri": "https://localhost:8080/"
        },
        "id": "W4CJqWOf2035",
        "outputId": "af64527c-ff7a-4278-a3c7-678200127371"
      },
      "execution_count": null,
      "outputs": [
        {
          "output_type": "stream",
          "name": "stdout",
          "text": [
            "salah wisata kota palembang fasilitas tawar wahana main santai outbound area kolam hunting foto mushola toilet parkir luas lapang main luas akses agam bus ojek gojek gocar taxi rekomendasi piknik keluarga teman dar lepas penat santa\n",
            "10\n"
          ]
        }
      ]
    },
    {
      "cell_type": "markdown",
      "source": [
        "### Tokenization"
      ],
      "metadata": {
        "id": "xelTXRb43lYa"
      }
    },
    {
      "cell_type": "code",
      "source": [
        "vocab_size = 1000\n",
        "embedding_dim = 16\n",
        "max_length = 120\n",
        "trunc_type = 'post'\n",
        "padding_type = 'post'\n",
        "oov_tok = \"<OOV>\"\n",
        "training_size = 20000"
      ],
      "metadata": {
        "id": "z1AE_qGz3vPT"
      },
      "execution_count": null,
      "outputs": []
    },
    {
      "cell_type": "code",
      "source": [
        "tokenizer = Tokenizer(num_words=vocab_size, oov_token=oov_tok)\n",
        "tokenizer.fit_on_texts(training_sentences)"
      ],
      "metadata": {
        "id": "xJr-qazE3oTX"
      },
      "execution_count": null,
      "outputs": []
    },
    {
      "cell_type": "markdown",
      "source": [
        "### Export the Tokenizer"
      ],
      "metadata": {
        "id": "_1NLh9rneBXc"
      }
    },
    {
      "cell_type": "code",
      "source": [
        "# Save the tokenizer using pickle\n",
        "with open('tokenizer.pkl', 'wb') as handle:\n",
        "    pickle.dump(tokenizer, handle, protocol=pickle.HIGHEST_PROTOCOL)"
      ],
      "metadata": {
        "id": "7L370rbyrAEx"
      },
      "execution_count": null,
      "outputs": []
    },
    {
      "cell_type": "code",
      "source": [
        "# Save the model\n",
        "joblib.dump(tokenizer, \"tokenizer2.pkl\")"
      ],
      "metadata": {
        "colab": {
          "base_uri": "https://localhost:8080/"
        },
        "id": "qvHEeuj9yldo",
        "outputId": "8356e13b-4672-41f4-ab8a-676510c800d7"
      },
      "execution_count": null,
      "outputs": [
        {
          "output_type": "execute_result",
          "data": {
            "text/plain": [
              "['tokenizer2.pkl']"
            ]
          },
          "metadata": {},
          "execution_count": 64
        }
      ]
    },
    {
      "cell_type": "code",
      "source": [
        "training_sequences = tokenizer.texts_to_sequences(training_sentences)\n",
        "training_padded = pad_sequences(training_sequences, maxlen=max_length, padding=padding_type, truncating=trunc_type)\n",
        "\n",
        "validation_sequences = tokenizer.texts_to_sequences(validation_sentences)\n",
        "validation_padded = pad_sequences(validation_sequences, maxlen=max_length, padding=padding_type, truncating=trunc_type)"
      ],
      "metadata": {
        "id": "ObxPUCf-3_Gy"
      },
      "execution_count": null,
      "outputs": []
    },
    {
      "cell_type": "markdown",
      "source": [
        "## Make Model"
      ],
      "metadata": {
        "id": "Azp7cTqb7qm9"
      }
    },
    {
      "cell_type": "code",
      "source": [
        "model = tf.keras.Sequential([\n",
        "    tf.keras.layers.Embedding(vocab_size, embedding_dim, input_length=max_length),\n",
        "    tf.keras.layers.Bidirectional(tf.keras.layers.LSTM(64, return_sequences=True)),\n",
        "    tf.keras.layers.GlobalMaxPooling1D(),\n",
        "    tf.keras.layers.Dense(128, activation='relu'),\n",
        "    tf.keras.layers.Dropout(0.3),\n",
        "    tf.keras.layers.Dense(64, activation='relu'),\n",
        "    tf.keras.layers.Dropout(0.3),\n",
        "    tf.keras.layers.Dense(15, activation='softmax')\n",
        "])"
      ],
      "metadata": {
        "id": "jV1AvJCG7zSv"
      },
      "execution_count": null,
      "outputs": []
    },
    {
      "cell_type": "code",
      "source": [
        "model.compile(loss='sparse_categorical_crossentropy',\n",
        "              optimizer='adam',\n",
        "              metrics=['accuracy'])"
      ],
      "metadata": {
        "id": "DiHsSeEG-V15"
      },
      "execution_count": null,
      "outputs": []
    },
    {
      "cell_type": "markdown",
      "source": [
        "## Training Model"
      ],
      "metadata": {
        "id": "L-bQ1UDCmuKZ"
      }
    },
    {
      "cell_type": "code",
      "source": [
        "history = model.fit(training_padded, training_labels, epochs=50,\n",
        "          validation_data=(validation_padded, validation_labels),\n",
        "          )"
      ],
      "metadata": {
        "colab": {
          "base_uri": "https://localhost:8080/"
        },
        "id": "R3mpbHNB_Ovy",
        "outputId": "758b1561-ed4f-4930-d355-4121c206ffaa"
      },
      "execution_count": null,
      "outputs": [
        {
          "output_type": "stream",
          "name": "stdout",
          "text": [
            "Epoch 1/50\n",
            "35/35 [==============================] - 17s 303ms/step - loss: 2.7028 - accuracy: 0.0726 - val_loss: 2.6976 - val_accuracy: 0.0652\n",
            "Epoch 2/50\n",
            "35/35 [==============================] - 9s 268ms/step - loss: 2.6927 - accuracy: 0.0662 - val_loss: 2.6739 - val_accuracy: 0.0688\n",
            "Epoch 3/50\n",
            "35/35 [==============================] - 11s 305ms/step - loss: 2.6456 - accuracy: 0.0971 - val_loss: 2.5918 - val_accuracy: 0.0833\n",
            "Epoch 4/50\n",
            "35/35 [==============================] - 8s 229ms/step - loss: 2.5100 - accuracy: 0.1352 - val_loss: 2.4089 - val_accuracy: 0.1558\n",
            "Epoch 5/50\n",
            "35/35 [==============================] - 9s 249ms/step - loss: 2.3273 - accuracy: 0.1597 - val_loss: 2.3420 - val_accuracy: 0.1449\n",
            "Epoch 6/50\n",
            "35/35 [==============================] - 6s 156ms/step - loss: 2.1803 - accuracy: 0.2015 - val_loss: 2.2430 - val_accuracy: 0.2138\n",
            "Epoch 7/50\n",
            "35/35 [==============================] - 6s 163ms/step - loss: 2.0176 - accuracy: 0.2704 - val_loss: 2.1010 - val_accuracy: 0.2826\n",
            "Epoch 8/50\n",
            "35/35 [==============================] - 4s 116ms/step - loss: 1.8666 - accuracy: 0.2786 - val_loss: 2.0126 - val_accuracy: 0.3261\n",
            "Epoch 9/50\n",
            "35/35 [==============================] - 4s 117ms/step - loss: 1.6671 - accuracy: 0.3693 - val_loss: 1.8854 - val_accuracy: 0.3841\n",
            "Epoch 10/50\n",
            "35/35 [==============================] - 6s 161ms/step - loss: 1.5545 - accuracy: 0.4265 - val_loss: 1.8497 - val_accuracy: 0.3587\n",
            "Epoch 11/50\n",
            "35/35 [==============================] - 4s 117ms/step - loss: 1.3808 - accuracy: 0.4982 - val_loss: 1.8993 - val_accuracy: 0.3913\n",
            "Epoch 12/50\n",
            "35/35 [==============================] - 4s 115ms/step - loss: 1.2588 - accuracy: 0.5118 - val_loss: 1.8483 - val_accuracy: 0.4022\n",
            "Epoch 13/50\n",
            "35/35 [==============================] - 6s 160ms/step - loss: 1.2244 - accuracy: 0.5345 - val_loss: 1.8206 - val_accuracy: 0.4312\n",
            "Epoch 14/50\n",
            "35/35 [==============================] - 4s 123ms/step - loss: 1.1167 - accuracy: 0.5799 - val_loss: 1.8781 - val_accuracy: 0.4348\n",
            "Epoch 15/50\n",
            "35/35 [==============================] - 4s 118ms/step - loss: 1.0117 - accuracy: 0.6270 - val_loss: 1.9721 - val_accuracy: 0.4094\n",
            "Epoch 16/50\n",
            "35/35 [==============================] - 6s 160ms/step - loss: 0.9482 - accuracy: 0.6388 - val_loss: 2.0917 - val_accuracy: 0.4203\n",
            "Epoch 17/50\n",
            "35/35 [==============================] - 4s 119ms/step - loss: 0.8710 - accuracy: 0.6851 - val_loss: 2.1124 - val_accuracy: 0.4275\n",
            "Epoch 18/50\n",
            "35/35 [==============================] - 4s 117ms/step - loss: 0.8411 - accuracy: 0.6824 - val_loss: 2.1978 - val_accuracy: 0.4130\n",
            "Epoch 19/50\n",
            "35/35 [==============================] - 6s 162ms/step - loss: 0.7246 - accuracy: 0.7477 - val_loss: 2.3593 - val_accuracy: 0.4601\n",
            "Epoch 20/50\n",
            "35/35 [==============================] - 4s 121ms/step - loss: 0.6503 - accuracy: 0.7722 - val_loss: 2.5594 - val_accuracy: 0.4420\n",
            "Epoch 21/50\n",
            "35/35 [==============================] - 4s 120ms/step - loss: 0.6653 - accuracy: 0.7568 - val_loss: 2.4684 - val_accuracy: 0.4457\n",
            "Epoch 22/50\n",
            "35/35 [==============================] - 6s 169ms/step - loss: 0.6138 - accuracy: 0.7868 - val_loss: 2.4352 - val_accuracy: 0.4746\n",
            "Epoch 23/50\n",
            "35/35 [==============================] - 5s 138ms/step - loss: 0.6049 - accuracy: 0.7840 - val_loss: 2.5101 - val_accuracy: 0.4746\n",
            "Epoch 24/50\n",
            "35/35 [==============================] - 4s 116ms/step - loss: 0.5820 - accuracy: 0.7804 - val_loss: 2.6268 - val_accuracy: 0.4529\n",
            "Epoch 25/50\n",
            "35/35 [==============================] - 6s 168ms/step - loss: 0.5262 - accuracy: 0.8022 - val_loss: 2.6517 - val_accuracy: 0.4674\n",
            "Epoch 26/50\n",
            "35/35 [==============================] - 4s 117ms/step - loss: 0.4835 - accuracy: 0.8212 - val_loss: 2.7738 - val_accuracy: 0.4674\n",
            "Epoch 27/50\n",
            "35/35 [==============================] - 4s 118ms/step - loss: 0.4588 - accuracy: 0.8430 - val_loss: 2.9106 - val_accuracy: 0.4638\n",
            "Epoch 28/50\n",
            "35/35 [==============================] - 6s 169ms/step - loss: 0.4186 - accuracy: 0.8475 - val_loss: 3.0948 - val_accuracy: 0.4819\n",
            "Epoch 29/50\n",
            "35/35 [==============================] - 4s 119ms/step - loss: 0.4041 - accuracy: 0.8593 - val_loss: 3.2424 - val_accuracy: 0.4565\n",
            "Epoch 30/50\n",
            "35/35 [==============================] - 5s 153ms/step - loss: 0.5769 - accuracy: 0.7995 - val_loss: 2.6969 - val_accuracy: 0.4565\n",
            "Epoch 31/50\n",
            "35/35 [==============================] - 6s 169ms/step - loss: 0.5180 - accuracy: 0.8221 - val_loss: 2.5524 - val_accuracy: 0.4783\n",
            "Epoch 32/50\n",
            "35/35 [==============================] - 4s 117ms/step - loss: 0.3932 - accuracy: 0.8603 - val_loss: 2.9879 - val_accuracy: 0.4601\n",
            "Epoch 33/50\n",
            "35/35 [==============================] - 5s 135ms/step - loss: 0.3594 - accuracy: 0.8757 - val_loss: 3.5745 - val_accuracy: 0.4348\n",
            "Epoch 34/50\n",
            "35/35 [==============================] - 5s 145ms/step - loss: 0.3655 - accuracy: 0.8739 - val_loss: 3.0903 - val_accuracy: 0.4891\n",
            "Epoch 35/50\n",
            "35/35 [==============================] - 4s 116ms/step - loss: 0.3033 - accuracy: 0.8902 - val_loss: 3.3420 - val_accuracy: 0.4710\n",
            "Epoch 36/50\n",
            "35/35 [==============================] - 5s 136ms/step - loss: 0.2655 - accuracy: 0.9056 - val_loss: 3.6097 - val_accuracy: 0.4565\n",
            "Epoch 37/50\n",
            "35/35 [==============================] - 5s 144ms/step - loss: 0.2509 - accuracy: 0.9211 - val_loss: 3.6841 - val_accuracy: 0.4710\n",
            "Epoch 38/50\n",
            "35/35 [==============================] - 4s 115ms/step - loss: 0.2678 - accuracy: 0.9083 - val_loss: 3.8515 - val_accuracy: 0.4855\n",
            "Epoch 39/50\n",
            "35/35 [==============================] - 5s 138ms/step - loss: 0.2545 - accuracy: 0.9211 - val_loss: 3.8242 - val_accuracy: 0.4891\n",
            "Epoch 40/50\n",
            "35/35 [==============================] - 5s 143ms/step - loss: 0.2298 - accuracy: 0.9183 - val_loss: 3.9392 - val_accuracy: 0.4710\n",
            "Epoch 41/50\n",
            "35/35 [==============================] - 4s 116ms/step - loss: 0.2192 - accuracy: 0.9356 - val_loss: 4.0907 - val_accuracy: 0.4674\n",
            "Epoch 42/50\n",
            "35/35 [==============================] - 5s 142ms/step - loss: 0.1932 - accuracy: 0.9256 - val_loss: 4.2914 - val_accuracy: 0.4891\n",
            "Epoch 43/50\n",
            "35/35 [==============================] - 5s 138ms/step - loss: 0.1950 - accuracy: 0.9319 - val_loss: 3.9430 - val_accuracy: 0.4964\n",
            "Epoch 44/50\n",
            "35/35 [==============================] - 4s 115ms/step - loss: 0.2664 - accuracy: 0.9029 - val_loss: 4.3759 - val_accuracy: 0.4493\n",
            "Epoch 45/50\n",
            "35/35 [==============================] - 5s 143ms/step - loss: 0.1884 - accuracy: 0.9383 - val_loss: 3.9803 - val_accuracy: 0.5000\n",
            "Epoch 46/50\n",
            "35/35 [==============================] - 5s 136ms/step - loss: 0.1932 - accuracy: 0.9392 - val_loss: 4.2588 - val_accuracy: 0.4783\n",
            "Epoch 47/50\n",
            "35/35 [==============================] - 4s 116ms/step - loss: 0.1724 - accuracy: 0.9465 - val_loss: 4.1866 - val_accuracy: 0.4819\n",
            "Epoch 48/50\n",
            "35/35 [==============================] - 5s 145ms/step - loss: 0.1532 - accuracy: 0.9610 - val_loss: 4.1434 - val_accuracy: 0.5000\n",
            "Epoch 49/50\n",
            "35/35 [==============================] - 5s 135ms/step - loss: 0.1738 - accuracy: 0.9401 - val_loss: 4.1749 - val_accuracy: 0.5109\n",
            "Epoch 50/50\n",
            "35/35 [==============================] - 4s 118ms/step - loss: 0.1818 - accuracy: 0.9356 - val_loss: 4.2211 - val_accuracy: 0.4964\n"
          ]
        }
      ]
    },
    {
      "cell_type": "markdown",
      "source": [
        "### Plot result"
      ],
      "metadata": {
        "id": "OMv0q_Ts2pij"
      }
    },
    {
      "cell_type": "code",
      "source": [
        "# Extracting accuracy and validation accuracy from the history object\n",
        "accuracy = history.history['accuracy']\n",
        "val_accuracy = history.history['val_accuracy']\n",
        "\n",
        "# Plotting the accuracy\n",
        "plt.plot(range(1, len(accuracy) + 1), accuracy, label='Training Accuracy')\n",
        "plt.plot(range(1, len(val_accuracy) + 1), val_accuracy, label='Validation Accuracy')\n",
        "plt.title('Training and Validation Accuracy')\n",
        "plt.xlabel('Epochs')\n",
        "plt.ylabel('Accuracy')\n",
        "plt.legend()\n",
        "plt.show()"
      ],
      "metadata": {
        "colab": {
          "base_uri": "https://localhost:8080/",
          "height": 472
        },
        "id": "KiBWj1vz4SHY",
        "outputId": "79a50355-afcc-43b7-d707-c2974806ff75"
      },
      "execution_count": null,
      "outputs": [
        {
          "output_type": "display_data",
          "data": {
            "text/plain": [
              "<Figure size 640x480 with 1 Axes>"
            ],
            "image/png": "[encoded data removed]"
          },
          "metadata": {}
        }
      ]
    },
    {
      "cell_type": "markdown",
      "source": [
        "### Save the model"
      ],
      "metadata": {
        "id": "7Uy_3J-9XrLA"
      }
    },
    {
      "cell_type": "code",
      "source": [
        "model.save('model_v3.h5')"
      ],
      "metadata": {
        "colab": {
          "base_uri": "https://localhost:8080/"
        },
        "id": "CY5nrzMlMwbG",
        "outputId": "7229664a-c374-4b48-a591-61fb02043fbe"
      },
      "execution_count": null,
      "outputs": [
        {
          "output_type": "stream",
          "name": "stderr",
          "text": [
            "/usr/local/lib/python3.10/dist-packages/keras/src/engine/training.py:3103: UserWarning: You are saving your model as an HDF5 file via `model.save()`. This file format is considered legacy. We recommend using instead the native Keras format, e.g. `model.save('my_model.keras')`.\n",
            "  saving_api.save_model(\n"
          ]
        }
      ]
    },
    {
      "cell_type": "code",
      "source": [
        "joblib.dump(model, \"model_v3.pkl\")"
      ],
      "metadata": {
        "colab": {
          "base_uri": "https://localhost:8080/"
        },
        "id": "QElbLcTE0TRp",
        "outputId": "fd3b4d75-936a-42ec-dd7e-e7ec014cb82a"
      },
      "execution_count": null,
      "outputs": [
        {
          "output_type": "execute_result",
          "data": {
            "text/plain": [
              "['model_v3.pkl']"
            ]
          },
          "metadata": {},
          "execution_count": 49
        }
      ]
    },
    {
      "cell_type": "markdown",
      "source": [
        "## Test the model"
      ],
      "metadata": {
        "id": "r1KqXELzmq3p"
      }
    },
    {
      "cell_type": "code",
      "source": [
        "dic_label = {\n",
        "    0: \"benteng kuto besak\",\n",
        "    1: \"pulau kemaro\",\n",
        "    2: \"sungai musi\",\n",
        "    3: \"warung terapung\",\n",
        "    4: \"riverside restaurant\",\n",
        "    5: \"sentral kampung pempek\",\n",
        "    6: \"taman purbakala\",\n",
        "    7: \"museum monpera\",\n",
        "    8: \"museum sultan mahmud II\",\n",
        "    9: \"jembatan ampera\",\n",
        "    10: \"wisata alam punti kayu\",\n",
        "    11: \"taman kambang iwak besak\",\n",
        "    12: \"bird park jaka baring\",\n",
        "    13: \"jaka baring sport city\",\n",
        "    14: \"palembang indah mall\",\n",
        "}"
      ],
      "metadata": {
        "id": "HDfs2J7bX8Mz"
      },
      "execution_count": null,
      "outputs": []
    },
    {
      "cell_type": "code",
      "source": [
        "from tensorflow.keras.models import load_model\n",
        "\n",
        "# Assuming you have loaded your real data into a variable called 'real_data'\n",
        "real_data = [\"saya ingin ke tempat wisata yang memiliki taman dan makanan yang enak dan sejuk\"]\n",
        "\n",
        "# Assuming 'tokenizer' and 'label_tokenizer' are already defined as in your code\n",
        "real_data_sequences = tokenizer.texts_to_sequences(real_data)\n",
        "real_data_padded = pad_sequences(real_data_sequences, maxlen=max_length, truncating=trunc_type, padding=padding_type)\n",
        "\n",
        "# Load the trained model\n",
        "model = load_model('model_v2.h5')  # Replace 'your_model.h5' with the actual filename\n",
        "\n",
        "# Make predictions\n",
        "predictions = model.predict(real_data_padded)\n",
        "\n",
        "# Get the top N predictions\n",
        "top_n = 3\n",
        "top_indices = np.argsort(predictions[0])[-top_n:][::-1]\n",
        "top_probabilities = predictions[0][top_indices]\n",
        "\n",
        "# Get the corresponding labels\n",
        "top_labels = [dic_label.get(index, \"Unknown\") for index in top_indices]\n",
        "\n",
        "# Print the top N predictions\n",
        "print(f\"Top {top_n} Predictions:\")\n",
        "for label, probability in zip(top_labels, top_probabilities):\n",
        "    print(f\"Label: {label}, Probability: {probability}\")"
      ],
      "metadata": {
        "colab": {
          "base_uri": "https://localhost:8080/"
        },
        "id": "pqOVOtX8Xvex",
        "outputId": "a16ca01a-3c59-458c-8ef4-a3d9948b8d52"
      },
      "execution_count": null,
      "outputs": [
        {
          "output_type": "stream",
          "name": "stdout",
          "text": [
            "1/1 [==============================] - 2s 2s/step\n",
            "Top 3 Predictions:\n",
            "Label: museum monpera, Probability: 0.713712751865387\n",
            "Label: museum sultan mahmud II, Probability: 0.16100415587425232\n",
            "Label: taman purbakala, Probability: 0.1236746534705162\n"
          ]
        }
      ]
    },
    {
      "cell_type": "markdown",
      "source": [
        "## Using Transformer"
      ],
      "metadata": {
        "id": "5-uOoW9MnaFG"
      }
    },
    {
      "cell_type": "code",
      "source": [
        "from transformers import BertTokenizer, TFBertForSequenceClassification\n",
        "from tensorflow.keras.optimizers import Adam"
      ],
      "metadata": {
        "id": "z8PrUXhTncya"
      },
      "execution_count": null,
      "outputs": []
    },
    {
      "cell_type": "code",
      "source": [
        "# Load pre-trained BERT tokenizer and model\n",
        "tokenizer = BertTokenizer.from_pretrained('bert-base-uncased')\n",
        "model = TFBertForSequenceClassification.from_pretrained('bert-base-uncased', num_labels=15)  # Change num_labels based on your classification task"
      ],
      "metadata": {
        "colab": {
          "base_uri": "https://localhost:8080/"
        },
        "id": "sL1Je-t9ndZi",
        "outputId": "44ca7e44-4fb6-45a0-f9d2-e706b37d754c"
      },
      "execution_count": null,
      "outputs": [
        {
          "output_type": "stream",
          "name": "stderr",
          "text": [
            "All PyTorch model weights were used when initializing TFBertForSequenceClassification.\n",
            "\n",
            "Some weights or buffers of the TF 2.0 model TFBertForSequenceClassification were not initialized from the PyTorch model and are newly initialized: ['classifier.weight', 'classifier.bias']\n",
            "You should probably TRAIN this model on a down-stream task to be able to use it for predictions and inference.\n"
          ]
        }
      ]
    },
    {
      "cell_type": "code",
      "source": [
        "# Tokenize the data\n",
        "train_encodings = tokenizer(list(training_sentences), truncation=True, padding=True)\n",
        "val_encodings = tokenizer(list(validation_sentences), truncation=True, padding=True)"
      ],
      "metadata": {
        "id": "JgxAvEZPnuFU"
      },
      "execution_count": null,
      "outputs": []
    },
    {
      "cell_type": "code",
      "source": [
        "# Create TensorFlow datasets\n",
        "train_dataset = tf.data.Dataset.from_tensor_slices((\n",
        "    dict(train_encodings),\n",
        "    training_labels\n",
        ")).shuffle(100).batch(8)\n",
        "\n",
        "val_dataset = tf.data.Dataset.from_tensor_slices((\n",
        "    dict(val_encodings),\n",
        "    validation_labels\n",
        ")).batch(8)"
      ],
      "metadata": {
        "id": "JyEkx49SoyXo"
      },
      "execution_count": null,
      "outputs": []
    },
    {
      "cell_type": "code",
      "source": [
        "# Define optimizer and loss function\n",
        "optimizer = Adam(learning_rate=1e-5)\n",
        "loss = tf.keras.losses.SparseCategoricalCrossentropy(from_logits=True)"
      ],
      "metadata": {
        "id": "Ozk-Q5Pso3C0"
      },
      "execution_count": null,
      "outputs": []
    },
    {
      "cell_type": "code",
      "source": [
        "# Compile the model\n",
        "model.compile(optimizer=optimizer, loss=loss, metrics=['accuracy'])\n",
        "\n",
        "# Train the model\n",
        "model.fit(train_dataset, validation_data=val_dataset, epochs=3)"
      ],
      "metadata": {
        "colab": {
          "base_uri": "https://localhost:8080/"
        },
        "id": "gxgcz1b3o-sQ",
        "outputId": "be2f2bf0-a473-4e84-ee9b-15c11d808b43"
      },
      "execution_count": null,
      "outputs": [
        {
          "output_type": "stream",
          "name": "stdout",
          "text": [
            "Epoch 1/3\n",
            " 72/138 [==============>...............] - ETA: 1:01:11 - loss: 2.7114 - accuracy: 0.0573"
          ]
        }
      ]
    },
    {
      "cell_type": "code",
      "source": [],
      "metadata": {
        "id": "TWElkD4WpCTf"
      },
      "execution_count": null,
      "outputs": []
    }
  ]
}